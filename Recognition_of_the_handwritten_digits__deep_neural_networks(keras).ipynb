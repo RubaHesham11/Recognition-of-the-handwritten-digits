{
  "nbformat": 4,
  "nbformat_minor": 0,
  "metadata": {
    "colab": {
      "provenance": [],
      "gpuType": "T4",
      "include_colab_link": true
    },
    "kernelspec": {
      "name": "python3",
      "display_name": "Python 3"
    },
    "language_info": {
      "name": "python"
    },
    "accelerator": "GPU"
  },
  "cells": [
    {
      "cell_type": "markdown",
      "metadata": {
        "id": "view-in-github",
        "colab_type": "text"
      },
      "source": [
        "<a href=\"https://colab.research.google.com/github/RubaHesham11/Recognition-of-the-handwritten-digits/blob/main/Recognition_of_the_handwritten_digits__deep_neural_networks(keras).ipynb\" target=\"_parent\"><img src=\"https://colab.research.google.com/assets/colab-badge.svg\" alt=\"Open In Colab\"/></a>"
      ]
    },
    {
      "cell_type": "code",
      "execution_count": 1,
      "metadata": {
        "colab": {
          "base_uri": "https://localhost:8080/"
        },
        "id": "REeJZ6IB5DoH",
        "outputId": "fbe6bf56-8d85-4660-ebf2-6b5661d92b85"
      },
      "outputs": [
        {
          "output_type": "stream",
          "name": "stdout",
          "text": [
            "Collecting ucimlrepo\n",
            "  Downloading ucimlrepo-0.0.7-py3-none-any.whl (8.0 kB)\n",
            "Requirement already satisfied: pandas>=1.0.0 in /usr/local/lib/python3.10/dist-packages (from ucimlrepo) (2.0.3)\n",
            "Requirement already satisfied: certifi>=2020.12.5 in /usr/local/lib/python3.10/dist-packages (from ucimlrepo) (2024.6.2)\n",
            "Requirement already satisfied: python-dateutil>=2.8.2 in /usr/local/lib/python3.10/dist-packages (from pandas>=1.0.0->ucimlrepo) (2.8.2)\n",
            "Requirement already satisfied: pytz>=2020.1 in /usr/local/lib/python3.10/dist-packages (from pandas>=1.0.0->ucimlrepo) (2023.4)\n",
            "Requirement already satisfied: tzdata>=2022.1 in /usr/local/lib/python3.10/dist-packages (from pandas>=1.0.0->ucimlrepo) (2024.1)\n",
            "Requirement already satisfied: numpy>=1.21.0 in /usr/local/lib/python3.10/dist-packages (from pandas>=1.0.0->ucimlrepo) (1.25.2)\n",
            "Requirement already satisfied: six>=1.5 in /usr/local/lib/python3.10/dist-packages (from python-dateutil>=2.8.2->pandas>=1.0.0->ucimlrepo) (1.16.0)\n",
            "Installing collected packages: ucimlrepo\n",
            "Successfully installed ucimlrepo-0.0.7\n"
          ]
        }
      ],
      "source": [
        "!pip install ucimlrepo"
      ]
    },
    {
      "cell_type": "code",
      "source": [
        "import numpy as np\n",
        "from keras.models import Sequential\n",
        "from keras.layers import Dense\n",
        "from keras.utils import to_categorical\n",
        "from sklearn.model_selection import train_test_split\n",
        "from sklearn.preprocessing import StandardScaler\n",
        "from ucimlrepo import fetch_ucirepo\n",
        "import matplotlib.pyplot as plt\n"
      ],
      "metadata": {
        "id": "QNeeSxg45gWj"
      },
      "execution_count": 9,
      "outputs": []
    },
    {
      "cell_type": "code",
      "source": [
        "# fetch dataset\n",
        "optical_recognition_of_handwritten_digits = fetch_ucirepo(id=80)\n",
        "\n",
        "# data (as numpy arrays)\n",
        "X = optical_recognition_of_handwritten_digits.data.features.to_numpy()\n",
        "y = optical_recognition_of_handwritten_digits.data.targets.to_numpy()\n",
        "\n"
      ],
      "metadata": {
        "id": "V74ZVUTBENoh"
      },
      "execution_count": 10,
      "outputs": []
    },
    {
      "cell_type": "code",
      "source": [
        "X = X/16"
      ],
      "metadata": {
        "id": "yEViEcd562Hf"
      },
      "execution_count": 11,
      "outputs": []
    },
    {
      "cell_type": "code",
      "source": [
        "X_train, X_test, y_train, y_test = train_test_split(X, y, test_size=0.2)\n",
        "\n"
      ],
      "metadata": {
        "id": "1H9GuDVG6H2q"
      },
      "execution_count": 12,
      "outputs": []
    },
    {
      "cell_type": "code",
      "source": [
        "\n",
        "y_train = to_categorical(y_train, 10)\n",
        "y_test = to_categorical(y_test, 10)\n",
        "\n"
      ],
      "metadata": {
        "id": "JIQOq8cv6HyL"
      },
      "execution_count": 13,
      "outputs": []
    },
    {
      "cell_type": "code",
      "source": [
        "# Visualize some sample images\n",
        "fig, axes = plt.subplots(2, 5, figsize=(12, 6))\n",
        "axes = axes.ravel()\n",
        "\n",
        "for i in range(10):\n",
        "    axes[i].imshow(X[i].reshape(8, 8), cmap='gray')\n",
        "    axes[i].set_title(f'Label: {y[i]}')\n",
        "    axes[i].axis('off')\n",
        "\n",
        "plt.subplots_adjust(hspace=0.5)\n",
        "plt.show()"
      ],
      "metadata": {
        "colab": {
          "base_uri": "https://localhost:8080/",
          "height": 496
        },
        "id": "4JxBVjOLehjX",
        "outputId": "d389b3dd-3b57-4239-eacd-ba1b3d89bec4"
      },
      "execution_count": 14,
      "outputs": [
        {
          "output_type": "display_data",
          "data": {
            "text/plain": [
              "<Figure size 1200x600 with 10 Axes>"
            ],
            "image/png": "[encoded data removed]"
          },
          "metadata": {}
        }
      ]
    },
    {
      "cell_type": "code",
      "source": [
        "model = Sequential()\n",
        "model.add(Dense(512, activation='sigmoid', input_shape=(X_train.shape[1],)))\n",
        "model.add(Dense(512, activation='sigmoid'))\n",
        "model.add(Dense(10, activation='softmax'))\n",
        "\n",
        "\n"
      ],
      "metadata": {
        "id": "tIwzl-sU6Hu3"
      },
      "execution_count": 15,
      "outputs": []
    },
    {
      "cell_type": "code",
      "source": [
        "model.compile(optimizer='Adam',\n",
        "              loss='categorical_crossentropy',\n",
        "              metrics=['accuracy'])\n",
        "\n"
      ],
      "metadata": {
        "id": "-YmgM1sF6Ho7"
      },
      "execution_count": 16,
      "outputs": []
    },
    {
      "cell_type": "code",
      "source": [
        "model.fit(X_train, y_train, epochs=100, batch_size=128)\n",
        "\n"
      ],
      "metadata": {
        "colab": {
          "base_uri": "https://localhost:8080/"
        },
        "id": "xXGBJ1T16HlV",
        "outputId": "795c542a-b1bd-4254-c9ba-2c0a171cea1f"
      },
      "execution_count": 17,
      "outputs": [
        {
          "output_type": "stream",
          "name": "stdout",
          "text": [
            "Epoch 1/100\n",
            "36/36 [==============================] - 2s 4ms/step - loss: 2.3004 - accuracy: 0.1639\n",
            "Epoch 2/100\n",
            "36/36 [==============================] - 0s 3ms/step - loss: 1.9847 - accuracy: 0.3944\n",
            "Epoch 3/100\n",
            "36/36 [==============================] - 0s 3ms/step - loss: 1.4065 - accuracy: 0.6648\n",
            "Epoch 4/100\n",
            "36/36 [==============================] - 0s 5ms/step - loss: 0.8635 - accuracy: 0.8405\n",
            "Epoch 5/100\n",
            "36/36 [==============================] - 0s 5ms/step - loss: 0.5817 - accuracy: 0.8879\n",
            "Epoch 6/100\n",
            "36/36 [==============================] - 0s 5ms/step - loss: 0.4288 - accuracy: 0.9121\n",
            "Epoch 7/100\n",
            "36/36 [==============================] - 0s 4ms/step - loss: 0.3398 - accuracy: 0.9217\n",
            "Epoch 8/100\n",
            "36/36 [==============================] - 0s 4ms/step - loss: 0.2906 - accuracy: 0.9331\n",
            "Epoch 9/100\n",
            "36/36 [==============================] - 0s 4ms/step - loss: 0.2450 - accuracy: 0.9433\n",
            "Epoch 10/100\n",
            "36/36 [==============================] - 0s 5ms/step - loss: 0.2239 - accuracy: 0.9419\n",
            "Epoch 11/100\n",
            "36/36 [==============================] - 0s 5ms/step - loss: 0.1993 - accuracy: 0.9513\n",
            "Epoch 12/100\n",
            "36/36 [==============================] - 0s 5ms/step - loss: 0.1866 - accuracy: 0.9506\n",
            "Epoch 13/100\n",
            "36/36 [==============================] - 0s 4ms/step - loss: 0.1741 - accuracy: 0.9551\n",
            "Epoch 14/100\n",
            "36/36 [==============================] - 0s 5ms/step - loss: 0.1620 - accuracy: 0.9551\n",
            "Epoch 15/100\n",
            "36/36 [==============================] - 0s 4ms/step - loss: 0.1479 - accuracy: 0.9622\n",
            "Epoch 16/100\n",
            "36/36 [==============================] - 0s 5ms/step - loss: 0.1450 - accuracy: 0.9600\n",
            "Epoch 17/100\n",
            "36/36 [==============================] - 0s 8ms/step - loss: 0.1375 - accuracy: 0.9629\n",
            "Epoch 18/100\n",
            "36/36 [==============================] - 0s 5ms/step - loss: 0.1294 - accuracy: 0.9669\n",
            "Epoch 19/100\n",
            "36/36 [==============================] - 0s 5ms/step - loss: 0.1246 - accuracy: 0.9675\n",
            "Epoch 20/100\n",
            "36/36 [==============================] - 0s 3ms/step - loss: 0.1213 - accuracy: 0.9677\n",
            "Epoch 21/100\n",
            "36/36 [==============================] - 0s 4ms/step - loss: 0.1150 - accuracy: 0.9689\n",
            "Epoch 22/100\n",
            "36/36 [==============================] - 0s 3ms/step - loss: 0.1110 - accuracy: 0.9709\n",
            "Epoch 23/100\n",
            "36/36 [==============================] - 0s 3ms/step - loss: 0.1128 - accuracy: 0.9680\n",
            "Epoch 24/100\n",
            "36/36 [==============================] - 0s 4ms/step - loss: 0.1060 - accuracy: 0.9709\n",
            "Epoch 25/100\n",
            "36/36 [==============================] - 0s 3ms/step - loss: 0.1017 - accuracy: 0.9726\n",
            "Epoch 26/100\n",
            "36/36 [==============================] - 0s 3ms/step - loss: 0.1016 - accuracy: 0.9713\n",
            "Epoch 27/100\n",
            "36/36 [==============================] - 0s 3ms/step - loss: 0.1032 - accuracy: 0.9691\n",
            "Epoch 28/100\n",
            "36/36 [==============================] - 0s 3ms/step - loss: 0.0926 - accuracy: 0.9735\n",
            "Epoch 29/100\n",
            "36/36 [==============================] - 0s 3ms/step - loss: 0.0901 - accuracy: 0.9746\n",
            "Epoch 30/100\n",
            "36/36 [==============================] - 0s 4ms/step - loss: 0.0884 - accuracy: 0.9758\n",
            "Epoch 31/100\n",
            "36/36 [==============================] - 0s 3ms/step - loss: 0.0895 - accuracy: 0.9758\n",
            "Epoch 32/100\n",
            "36/36 [==============================] - 0s 3ms/step - loss: 0.0885 - accuracy: 0.9726\n",
            "Epoch 33/100\n",
            "36/36 [==============================] - 0s 3ms/step - loss: 0.0861 - accuracy: 0.9749\n",
            "Epoch 34/100\n",
            "36/36 [==============================] - 0s 3ms/step - loss: 0.0870 - accuracy: 0.9740\n",
            "Epoch 35/100\n",
            "36/36 [==============================] - 0s 3ms/step - loss: 0.0838 - accuracy: 0.9735\n",
            "Epoch 36/100\n",
            "36/36 [==============================] - 0s 3ms/step - loss: 0.0787 - accuracy: 0.9769\n",
            "Epoch 37/100\n",
            "36/36 [==============================] - 0s 4ms/step - loss: 0.0898 - accuracy: 0.9695\n",
            "Epoch 38/100\n",
            "36/36 [==============================] - 0s 4ms/step - loss: 0.0741 - accuracy: 0.9780\n",
            "Epoch 39/100\n",
            "36/36 [==============================] - 0s 3ms/step - loss: 0.0734 - accuracy: 0.9780\n",
            "Epoch 40/100\n",
            "36/36 [==============================] - 0s 3ms/step - loss: 0.0740 - accuracy: 0.9798\n",
            "Epoch 41/100\n",
            "36/36 [==============================] - 0s 3ms/step - loss: 0.0735 - accuracy: 0.9780\n",
            "Epoch 42/100\n",
            "36/36 [==============================] - 0s 3ms/step - loss: 0.0754 - accuracy: 0.9775\n",
            "Epoch 43/100\n",
            "36/36 [==============================] - 0s 3ms/step - loss: 0.0721 - accuracy: 0.9804\n",
            "Epoch 44/100\n",
            "36/36 [==============================] - 0s 3ms/step - loss: 0.0747 - accuracy: 0.9769\n",
            "Epoch 45/100\n",
            "36/36 [==============================] - 0s 3ms/step - loss: 0.0674 - accuracy: 0.9806\n",
            "Epoch 46/100\n",
            "36/36 [==============================] - 0s 4ms/step - loss: 0.0636 - accuracy: 0.9824\n",
            "Epoch 47/100\n",
            "36/36 [==============================] - 0s 3ms/step - loss: 0.0634 - accuracy: 0.9813\n",
            "Epoch 48/100\n",
            "36/36 [==============================] - 0s 3ms/step - loss: 0.0617 - accuracy: 0.9822\n",
            "Epoch 49/100\n",
            "36/36 [==============================] - 0s 3ms/step - loss: 0.0580 - accuracy: 0.9851\n",
            "Epoch 50/100\n",
            "36/36 [==============================] - 0s 3ms/step - loss: 0.0745 - accuracy: 0.9775\n",
            "Epoch 51/100\n",
            "36/36 [==============================] - 0s 3ms/step - loss: 0.0564 - accuracy: 0.9842\n",
            "Epoch 52/100\n",
            "36/36 [==============================] - 0s 3ms/step - loss: 0.0585 - accuracy: 0.9835\n",
            "Epoch 53/100\n",
            "36/36 [==============================] - 0s 4ms/step - loss: 0.0540 - accuracy: 0.9862\n",
            "Epoch 54/100\n",
            "36/36 [==============================] - 0s 3ms/step - loss: 0.0559 - accuracy: 0.9851\n",
            "Epoch 55/100\n",
            "36/36 [==============================] - 0s 3ms/step - loss: 0.0570 - accuracy: 0.9844\n",
            "Epoch 56/100\n",
            "36/36 [==============================] - 0s 3ms/step - loss: 0.0590 - accuracy: 0.9815\n",
            "Epoch 57/100\n",
            "36/36 [==============================] - 0s 3ms/step - loss: 0.0521 - accuracy: 0.9840\n",
            "Epoch 58/100\n",
            "36/36 [==============================] - 0s 3ms/step - loss: 0.0502 - accuracy: 0.9860\n",
            "Epoch 59/100\n",
            "36/36 [==============================] - 0s 3ms/step - loss: 0.0496 - accuracy: 0.9864\n",
            "Epoch 60/100\n",
            "36/36 [==============================] - 0s 3ms/step - loss: 0.0488 - accuracy: 0.9844\n",
            "Epoch 61/100\n",
            "36/36 [==============================] - 0s 3ms/step - loss: 0.0460 - accuracy: 0.9880\n",
            "Epoch 62/100\n",
            "36/36 [==============================] - 0s 4ms/step - loss: 0.0462 - accuracy: 0.9882\n",
            "Epoch 63/100\n",
            "36/36 [==============================] - 0s 3ms/step - loss: 0.0471 - accuracy: 0.9864\n",
            "Epoch 64/100\n",
            "36/36 [==============================] - 0s 3ms/step - loss: 0.0502 - accuracy: 0.9853\n",
            "Epoch 65/100\n",
            "36/36 [==============================] - 0s 4ms/step - loss: 0.0580 - accuracy: 0.9833\n",
            "Epoch 66/100\n",
            "36/36 [==============================] - 0s 3ms/step - loss: 0.0438 - accuracy: 0.9887\n",
            "Epoch 67/100\n",
            "36/36 [==============================] - 0s 3ms/step - loss: 0.0454 - accuracy: 0.9880\n",
            "Epoch 68/100\n",
            "36/36 [==============================] - 0s 3ms/step - loss: 0.0417 - accuracy: 0.9882\n",
            "Epoch 69/100\n",
            "36/36 [==============================] - 0s 3ms/step - loss: 0.0408 - accuracy: 0.9884\n",
            "Epoch 70/100\n",
            "36/36 [==============================] - 0s 3ms/step - loss: 0.0395 - accuracy: 0.9880\n",
            "Epoch 71/100\n",
            "36/36 [==============================] - 0s 3ms/step - loss: 0.0390 - accuracy: 0.9889\n",
            "Epoch 72/100\n",
            "36/36 [==============================] - 0s 3ms/step - loss: 0.0380 - accuracy: 0.9900\n",
            "Epoch 73/100\n",
            "36/36 [==============================] - 0s 3ms/step - loss: 0.0386 - accuracy: 0.9887\n",
            "Epoch 74/100\n",
            "36/36 [==============================] - 0s 4ms/step - loss: 0.0452 - accuracy: 0.9864\n",
            "Epoch 75/100\n",
            "36/36 [==============================] - 0s 3ms/step - loss: 0.0399 - accuracy: 0.9878\n",
            "Epoch 76/100\n",
            "36/36 [==============================] - 0s 3ms/step - loss: 0.0333 - accuracy: 0.9909\n",
            "Epoch 77/100\n",
            "36/36 [==============================] - 0s 3ms/step - loss: 0.0347 - accuracy: 0.9907\n",
            "Epoch 78/100\n",
            "36/36 [==============================] - 0s 4ms/step - loss: 0.0388 - accuracy: 0.9889\n",
            "Epoch 79/100\n",
            "36/36 [==============================] - 0s 3ms/step - loss: 0.0345 - accuracy: 0.9895\n",
            "Epoch 80/100\n",
            "36/36 [==============================] - 0s 3ms/step - loss: 0.0304 - accuracy: 0.9918\n",
            "Epoch 81/100\n",
            "36/36 [==============================] - 0s 3ms/step - loss: 0.0316 - accuracy: 0.9915\n",
            "Epoch 82/100\n",
            "36/36 [==============================] - 0s 4ms/step - loss: 0.0298 - accuracy: 0.9920\n",
            "Epoch 83/100\n",
            "36/36 [==============================] - 0s 3ms/step - loss: 0.0361 - accuracy: 0.9889\n",
            "Epoch 84/100\n",
            "36/36 [==============================] - 0s 3ms/step - loss: 0.0299 - accuracy: 0.9915\n",
            "Epoch 85/100\n",
            "36/36 [==============================] - 0s 4ms/step - loss: 0.0290 - accuracy: 0.9931\n",
            "Epoch 86/100\n",
            "36/36 [==============================] - 0s 4ms/step - loss: 0.0296 - accuracy: 0.9913\n",
            "Epoch 87/100\n",
            "36/36 [==============================] - 0s 3ms/step - loss: 0.0386 - accuracy: 0.9878\n",
            "Epoch 88/100\n",
            "36/36 [==============================] - 0s 3ms/step - loss: 0.0319 - accuracy: 0.9922\n",
            "Epoch 89/100\n",
            "36/36 [==============================] - 0s 3ms/step - loss: 0.0312 - accuracy: 0.9907\n",
            "Epoch 90/100\n",
            "36/36 [==============================] - 0s 3ms/step - loss: 0.0316 - accuracy: 0.9907\n",
            "Epoch 91/100\n",
            "36/36 [==============================] - 0s 3ms/step - loss: 0.0239 - accuracy: 0.9935\n",
            "Epoch 92/100\n",
            "36/36 [==============================] - 0s 3ms/step - loss: 0.0262 - accuracy: 0.9933\n",
            "Epoch 93/100\n",
            "36/36 [==============================] - 0s 3ms/step - loss: 0.0243 - accuracy: 0.9931\n",
            "Epoch 94/100\n",
            "36/36 [==============================] - 0s 4ms/step - loss: 0.0243 - accuracy: 0.9929\n",
            "Epoch 95/100\n",
            "36/36 [==============================] - 0s 3ms/step - loss: 0.0236 - accuracy: 0.9938\n",
            "Epoch 96/100\n",
            "36/36 [==============================] - 0s 3ms/step - loss: 0.0236 - accuracy: 0.9944\n",
            "Epoch 97/100\n",
            "36/36 [==============================] - 0s 3ms/step - loss: 0.0219 - accuracy: 0.9935\n",
            "Epoch 98/100\n",
            "36/36 [==============================] - 0s 3ms/step - loss: 0.0268 - accuracy: 0.9933\n",
            "Epoch 99/100\n",
            "36/36 [==============================] - 0s 4ms/step - loss: 0.0233 - accuracy: 0.9935\n",
            "Epoch 100/100\n",
            "36/36 [==============================] - 0s 4ms/step - loss: 0.0211 - accuracy: 0.9940\n"
          ]
        },
        {
          "output_type": "execute_result",
          "data": {
            "text/plain": [
              "<keras.src.callbacks.History at 0x7ef0d866d060>"
            ]
          },
          "metadata": {},
          "execution_count": 17
        }
      ]
    },
    {
      "cell_type": "code",
      "source": [
        "test_loss, test_acc = model.evaluate(X_test, y_test)\n",
        "print('Test accuracy:', test_acc)\n",
        "\n"
      ],
      "metadata": {
        "colab": {
          "base_uri": "https://localhost:8080/"
        },
        "id": "rHgpXVha6HgD",
        "outputId": "67e5f93c-54b1-4953-9493-158a856c8cb1"
      },
      "execution_count": 18,
      "outputs": [
        {
          "output_type": "stream",
          "name": "stdout",
          "text": [
            "36/36 [==============================] - 0s 2ms/step - loss: 0.0694 - accuracy: 0.9813\n",
            "Test accuracy: 0.9813167452812195\n"
          ]
        }
      ]
    },
    {
      "cell_type": "code",
      "source": [
        "model.save('mnist_model.h5')"
      ],
      "metadata": {
        "colab": {
          "base_uri": "https://localhost:8080/"
        },
        "id": "y9EZUuWH6Hb_",
        "outputId": "66ea3f14-52a2-4bc5-83a7-10828eb4cba5"
      },
      "execution_count": 19,
      "outputs": [
        {
          "output_type": "stream",
          "name": "stderr",
          "text": [
            "/usr/local/lib/python3.10/dist-packages/keras/src/engine/training.py:3103: UserWarning: You are saving your model as an HDF5 file via `model.save()`. This file format is considered legacy. We recommend using instead the native Keras format, e.g. `model.save('my_model.keras')`.\n",
            "  saving_api.save_model(\n"
          ]
        }
      ]
    }
  ]
}